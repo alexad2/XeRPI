{
 "cells": [
  {
   "cell_type": "code",
   "execution_count": 1,
   "metadata": {
    "collapsed": false
   },
   "outputs": [
    {
     "name": "stderr",
     "output_type": "stream",
     "text": [
      "/project/lgrandi/anaconda3/envs/pax_head/lib/python3.4/site-packages/IPython/kernel/__init__.py:13: ShimWarning: The `IPython.kernel` package has been deprecated. You should import from ipykernel or jupyter_client instead.\n",
      "  \"You should import from ipykernel or jupyter_client instead.\", ShimWarning)\n"
     ]
    }
   ],
   "source": [
    "from xerawdp_helpers import *    # helper functions for retrieving xerawdp data\n",
    "from Kr83m_Basic import * \n",
    "\n",
    "import numpy as np\n",
    "import pandas as pd\n",
    "import glob\n",
    "%matplotlib inline\n",
    "import matplotlib.pyplot as plt\n",
    "from IPython.display import display, Image\n",
    "\n",
    "import hax\n",
    "hax.init(main_data_paths=['/project/lgrandi/xenon100/archive/root/merged/xenon100/run_14_pax4.1.2/',\n",
    "                          '/project/lgrandi/tunnell/run_14/paxProcessed_kr83mDiffusion/'],\n",
    "         raw_data_local_path='/project/lgrandi/tunnell/')\n",
    "\n",
    "#hax.ipython.code_hider()"
   ]
  },
  {
   "cell_type": "code",
   "execution_count": null,
   "metadata": {
    "collapsed": false
   },
   "outputs": [],
   "source": [
    "datasets_pax = ['xe100_150413_1839','xe100_150414_1535',\n",
    "            'xe100_150419_1611','xe100_150420_0304',\n",
    "            'xe100_150420_1809']\n",
    "data = hax.minitrees.load(datasets_pax, treemakers=Kr83m_Basic)\n",
    "print(len(data.values))"
   ]
  },
  {
   "cell_type": "code",
   "execution_count": 3,
   "metadata": {
    "collapsed": false
   },
   "outputs": [
    {
     "name": "stdout",
     "output_type": "stream",
     "text": [
      "Found minitree at ./xe100_150413_1839_pax4.9.1_Kr83m_Basic.root\n",
      "Found minitree at ./xe100_150414_1535_pax4.9.1_Kr83m_Basic.root\n",
      "Found minitree at ./xe100_150415_1749_pax4.9.1_Kr83m_Basic.root\n",
      "Found minitree at ./xe100_150416_1832_pax4.9.1_Kr83m_Basic.root\n",
      "Found minitree at ./xe100_150419_1611_pax4.9.1_Kr83m_Basic.root\n",
      "Found minitree at ./xe100_150420_0304_pax4.9.1_Kr83m_Basic.root\n",
      "Found minitree at ./xe100_150420_1809_pax4.9.1_Kr83m_Basic.root\n",
      "3255158\n"
     ]
    }
   ],
   "source": [
    "datasets_pax_new = ['xe100_150413_1839','xe100_150414_1535','xe100_150415_1749',\n",
    "            'xe100_150416_1832','xe100_150419_1611','xe100_150420_0304',\n",
    "            'xe100_150420_1809']\n",
    "for i in range(len(datasets_pax_new)):\n",
    "    datasets_pax_new[i] += '_pax4.9.1'\n",
    "data = hax.minitrees.load(datasets_pax_new, treemakers=Kr83m_Basic)\n",
    "print(len(data.values))"
   ]
  },
  {
   "cell_type": "code",
   "execution_count": null,
   "metadata": {
    "collapsed": false
   },
   "outputs": [],
   "source": [
    "# from 2015 Kr83m diffusion-mode data\n",
    "datasets_xerawdp = ['xe100_150413_1839','xe100_150414_1535','xe100_150415_1749',\n",
    "            'xe100_150416_1832','xe100_150419_1611','xe100_150420_0304',\n",
    "            'xe100_150420_1809']\n",
    "\n",
    "# xerawdp path\n",
    "xerawdpPath = '/project/lgrandi/tunnell/run_14/NewNN/'\n",
    "\n",
    "# get xerawdp tree, apply event restrictions, and retrieve desirable data\n",
    "#  see xerawdp_helpers.py for details\n",
    "xerawdpTree = load_xerawdp_tree(datasets_xerawdp, xerawdpPath)\n",
    "print(xerawdpTree.GetEntries())"
   ]
  },
  {
   "cell_type": "code",
   "execution_count": 4,
   "metadata": {
    "collapsed": true
   },
   "outputs": [],
   "source": [
    "# from 2015 Kr83m diffusion-mode data\n",
    "datasets_xerawdp = ['xe100_150413_1839','xe100_150414_1535','xe100_150415_1749',\n",
    "            'xe100_150416_1832','xe100_150419_1611','xe100_150420_0304',\n",
    "            'xe100_150420_1809']\n",
    "\n",
    "# xerawdp path\n",
    "xerawdpPath = '/project/lgrandi/tunnell/run_14/NewNN/'\n",
    "\n",
    "# get xerawdp tree, apply event restrictions, and retrieve desirable data\n",
    "#  see xerawdp_helpers.py for details\n",
    "xerawdpTree = load_xerawdp_tree(datasets_xerawdp, xerawdpPath)\n",
    "if 'xerawdp_krRestricted.pkl' not in glob.glob('*'):\n",
    "    df_xerawdp = build_xerawdp_df(xerawdpTree)\n",
    "    df_xerawdp.to_pickle('xerawdp_krRestricted.pkl')\n",
    "else:\n",
    "    df_xerawdp = pd.read_pickle('xerawdp_krRestricted.pkl')"
   ]
  },
  {
   "cell_type": "code",
   "execution_count": 5,
   "metadata": {
    "collapsed": false
   },
   "outputs": [],
   "source": [
    "n = 0\n",
    "for i in range(xerawdpTree.GetEntries()):\n",
    "    xerawdpTree.GetEntry(i)\n",
    "    \n",
    "    if xerawdpTree.NbS1Peaks < 2 or xerawdpTree.S1sTot[0] == 0 or xerawdpTree.NbS2Peaks < 1:\n",
    "        continue\n",
    "        \n",
    "    if xerawdpTree.S1sCoin[0] < 2 or xerawdpTree.S1sCoin[1] < 2:\n",
    "        continue\n",
    "        \n",
    "    if xerawdpTree.cS2sTot[0] < 150:\n",
    "        continue\n",
    "        \n",
    "    if xerawdpTree.S1sLeftEdge[1]-xerawdpTree.S1sRightEdge[0] <= 0:\n",
    "        continue\n",
    "        \n",
    "    dt_s1 = (xerawdpTree.S1sPeak[1]-xerawdpTree.S1sPeak[0])*10\n",
    "    if dt_s1 < 400 or dt_s1 > 2000:\n",
    "        continue\n",
    "        \n",
    "    if xerawdpTree.NbS2Peaks > 1 and xerawdpTree.cS2sTot[1] > 150:\n",
    "        continue\n",
    "        \n",
    "    if xerawdpTree.S2sRightEdge[0]-xerawdpTree.S2sLeftEdge[0] < xerawdpTree.S1sRightEdge[1]-xerawdpTree.S1sLeftEdge[0]:\n",
    "        continue\n",
    "        \n",
    "    if xerawdpTree.S1sTot[1]/xerawdpTree.S1sTot[0] < 0.1 or xerawdpTree.S1sTot[1]/xerawdpTree.S1sTot[0] > 1.0:\n",
    "        continue\n",
    "        \n",
    "    n += 1"
   ]
  },
  {
   "cell_type": "code",
   "execution_count": 6,
   "metadata": {
    "collapsed": false
   },
   "outputs": [
    {
     "name": "stdout",
     "output_type": "stream",
     "text": [
      "342335\n"
     ]
    }
   ],
   "source": [
    "print(n)"
   ]
  },
  {
   "cell_type": "code",
   "execution_count": 7,
   "metadata": {
    "collapsed": false
   },
   "outputs": [
    {
     "name": "stdout",
     "output_type": "stream",
     "text": [
      "5093213\n"
     ]
    }
   ],
   "source": [
    "print(xerawdpTree.GetEntries())"
   ]
  },
  {
   "cell_type": "markdown",
   "metadata": {
    "collapsed": true
   },
   "source": [
    "203805/5093213 with xerawdpTree.S1sTot[0] <= 0, same for just xerawdpTree.S1sTot[0] == 0\n",
    "\n",
    "342335/5093213 with dt in [400,2000] ns"
   ]
  },
  {
   "cell_type": "markdown",
   "metadata": {
    "collapsed": true
   },
   "source": [
    "# Data\n",
    "\n",
    "Data File | Xerawdp Events | Pax 4.1 Events | Pax 4.9 Partial Events\n",
    "----------|----------------|----------------|-----------------------\n",
    "xe100_150413_1839 | 961512 | 938512 | 561512\n",
    "xe100_150414_1535 | 854036 | 820036 | 821036\n",
    "xe100_150415_1749 | 1172055 | N/A | 585000\n",
    "xe100_150416_1832 | 1148282 | N/A | 473282\n",
    "xe100_150419_1611 | 500000 | 486000 | 358000\n",
    "xe100_150420_0304 | 405328 | 389328 | 404328\n",
    "xe100_150420_1809 | 52000 | 104000 | 52000\n",
    "Total | 5093213 | 2737876 | 3255158"
   ]
  },
  {
   "cell_type": "code",
   "execution_count": null,
   "metadata": {
    "collapsed": true
   },
   "outputs": [],
   "source": []
  }
 ],
 "metadata": {
  "kernelspec": {
   "display_name": "Python 3",
   "language": "python",
   "name": "python3"
  },
  "language_info": {
   "codemirror_mode": {
    "name": "ipython",
    "version": 3
   },
   "file_extension": ".py",
   "mimetype": "text/x-python",
   "name": "python",
   "nbconvert_exporter": "python",
   "pygments_lexer": "ipython3",
   "version": "3.4.4"
  }
 },
 "nbformat": 4,
 "nbformat_minor": 0
}
