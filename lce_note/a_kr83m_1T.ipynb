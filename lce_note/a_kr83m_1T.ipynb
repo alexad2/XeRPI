{
 "cells": [
  {
   "cell_type": "markdown",
   "metadata": {},
   "source": [
    "# $^{83m}Kr$ LCE Maps: Xerawdp vs. Pax\n",
    "_Ted Berger, Dan Alexander; June 17 2016_"
   ]
  },
  {
   "cell_type": "code",
   "execution_count": 1,
   "metadata": {
    "collapsed": false
   },
   "outputs": [
    {
     "name": "stderr",
     "output_type": "stream",
     "text": [
      "/project/lgrandi/anaconda3/envs/pax_head/lib/python3.4/site-packages/IPython/kernel/__init__.py:13: ShimWarning: The `IPython.kernel` package has been deprecated. You should import from ipykernel or jupyter_client instead.\n",
      "  \"You should import from ipykernel or jupyter_client instead.\", ShimWarning)\n"
     ]
    }
   ],
   "source": [
    "from xerawdp_helpers import *    # helper functions for retrieving xerawdp data\n",
    "from Kr83m_Basic import *        # pax minitree class for Kr83m data\n",
    "from cut_helpers import *        # functions to apply and plot some event selections\n",
    "from lce_helpers import *        # functions for binning, building map files, and plotting LCE maps\n",
    "\n",
    "import numpy as np\n",
    "import pandas as pd\n",
    "import glob\n",
    "\n",
    "import matplotlib\n",
    "%matplotlib inline\n",
    "import matplotlib.pyplot as plt\n",
    "import matplotlib.image as mpimg\n",
    "matplotlib.rc('font', size=16)\n",
    "\n",
    "import hax\n",
    "hax.init(main_data_paths=['/home/berget2/scratch-midway/paxProcessed_kr83mDiffusion'])\n",
    "\n",
    "#hax.ipython.code_hider()"
   ]
  },
  {
   "cell_type": "markdown",
   "metadata": {},
   "source": [
    "# Table of Contents\n",
    "[1 - Introduction](#introduction)  \n",
    "[2 - Data and Event Selection](#data_and_selection)  \n",
    "[3 - LCE Maps](#lce_maps)  \n",
    "[4 - Next Steps: Xenon1T](#next_steps)  \n",
    "[5 - References](#references) "
   ]
  },
  {
   "cell_type": "markdown",
   "metadata": {},
   "source": [
    "<a id='introduction'></a>\n",
    "# Introduction"
   ]
  },
  {
   "cell_type": "markdown",
   "metadata": {},
   "source": [
    "As an internal calibration, $^{83m}Kr$ proves very useful in a variety of liquid noble detectors. We utilize a solution of $^{83}Rb$ evaporated onto zeolite beads to generate $^{83m}Kr$ with a half-life of $86.2\\ days$. From there, $^{83m}Kr$, with a half-life of $1.83\\ hr$, generates a $32.1\\ keV$ conversion electron or gamma with an internal conversion coefficient of $\\alpha=2035$. This is then followed by a $9.4\\ keV$ conversion electron or gamma with an internal conversion coefficient of $\\alpha=17.09$. These decays occur with a delay half-life of $154.4\\ ns$. This decay scheme is shown in Figure 0."
   ]
  },
  {
   "cell_type": "code",
   "execution_count": null,
   "metadata": {
    "collapsed": false
   },
   "outputs": [],
   "source": [
    "plt.rcParams['figure.figsize'] = (20.0, 20.0)  \n",
    "\n",
    "plt.imshow(mpimg.imread('KrLce_Figures/kr83m_decay_scheme.png'))\n",
    "plt.title('Fig 0: $^{83m}$Kr Decay Scheme')\n",
    "plt.axis('off')\n",
    "plt.show()"
   ]
  },
  {
   "cell_type": "markdown",
   "metadata": {},
   "source": [
    "The short half-life of $^{83m}Kr$ and its mother permit an internal calibration without introducing unwanted signals into the experiment. Furthermore, the short half-life between the $32.1\\ keV$ and $9.4\\ keV$ calibration lines provides a unique signal that is essentially background free.\n",
    "\n",
    "This calibration should provide a uniform distribution of events throughout the detector allowing the analysis of position reconstruction algorithms, non-uniformities in drift field, relative quantum efficiencies of PMTs, light collection efficiency maps, and absolute light yield. Furthermore, the XENON100 detector is capable of measuring the half-life of the $^{83m}Kr_{1/2-}$ and $^{83m}Kr_{7/2+}$ states, though the nuances of time smearing are still under investigation. \n",
    "\n",
    "This note focusses on understanding the $^{83m}Kr$ data and generating LCE maps with the intent of building these maps for XENON1T (hopefully very soon!)."
   ]
  },
  {
   "cell_type": "markdown",
   "metadata": {},
   "source": [
    "<a id='data_and_selection'></a>\n",
    "# Data and Event Selection"
   ]
  },
  {
   "cell_type": "code",
   "execution_count": null,
   "metadata": {
    "collapsed": false
   },
   "outputs": [],
   "source": [
    "# from 2015 Kr83m diffusion-mode data\n",
    "datasets_xerawdp = ['xe100_150413_1839','xe100_150414_1535','xe100_150415_1749',\n",
    "                    'xe100_150416_1832','xe100_150417_1648','xe100_150418_1644',\n",
    "                    'xe100_150419_0027','xe100_150419_0547','xe100_150419_1611',\n",
    "                    'xe100_150420_0304','xe100_150420_1809','xe100_150428_1232',\n",
    "                    'xe100_150429_0515','xe100_150429_2203','xe100_150430_1454',\n",
    "                    'xe100_150501_0751','xe100_150501_1457','xe100_150502_0802',\n",
    "                    'xe100_150503_0110','xe100_150503_1826']\n",
    "\n",
    "# xerawdp path\n",
    "xerawdpPath = '/project/lgrandi/tunnell/run_14/NewNN/'\n",
    "\n",
    "# get xerawdp tree, apply event restrictions, and retrieve desirable data\n",
    "#  see xerawdp_helpers.py for details\n",
    "xerawdpTree = load_xerawdp_tree(datasets_xerawdp, xerawdpPath)\n",
    "if 'xerawdp_krRestricted.pkl' not in glob.glob('*'):\n",
    "    df_xerawdp = build_xerawdp_df(xerawdpTree)\n",
    "    df_xerawdp.to_pickle('xerawdp_krRestricted.pkl')\n",
    "else:\n",
    "    df_xerawdp = pd.read_pickle('xerawdp_krRestricted.pkl')"
   ]
  },
  {
   "cell_type": "code",
   "execution_count": null,
   "metadata": {
    "collapsed": false
   },
   "outputs": [],
   "source": [
    "# datasets processed by pax_4.1.2\n",
    "datasets_pax = ['xe100_150413_1839','xe100_150414_1535','xe100_150415_1749',\n",
    "                'xe100_150416_1832','xe100_150419_1611','xe100_150420_0304',\n",
    "                'xe100_150420_1809']\n",
    "\n",
    "for i in range(len(datasets_pax)):\n",
    "    datasets_pax[i]+='_pax4.9.1'\n",
    "\n",
    "# load minitrees\n",
    "# throws error when building minitrees for many datasets, I built them one by one\n",
    "\n",
    "data = hax.minitrees.load(datasets_pax, treemakers=Kr83m_Basic)\n",
    "df_pax = pd.DataFrame(data[data['s10Time']>=0]) # remove NaNs"
   ]
  },
  {
   "cell_type": "markdown",
   "metadata": {},
   "source": [
    "The xerawdp data is from Luca Scotto's re-processing to remove more noisy PMT's and adjust the NN reconstruction (20 datasets total, see code for details). The pax data is from a partial processing of the $^{83m}Kr$ data and includes 7 datasets (pax v4.9.1, and again see code for dataset details).\n",
    "\n",
    "Xerawdp Data Path | Pax Data Path\n",
    "------------------|--------------\n",
    "/project/lgrandi/tunnell/run_14/NewNN/ | /project/lgrandi/tunnell/run_14/paxProcessed_kr83mDiffusion/\n",
    "$$ \\textbf{Table 1: }\\text{Paths to data on midway }$$\n",
    "\n",
    "Event selection has been broken into 2 parts; processed data is required to meet **restrictions** which guarantee the existence of the information necessary to apply other $^{83m}Kr$ selections, and **selections** which produce the final event selections. The goal is that only the restrictions differ between xerawdp and pax."
   ]
  },
  {
   "cell_type": "code",
   "execution_count": null,
   "metadata": {
    "collapsed": false
   },
   "outputs": [],
   "source": [
    "# acceptance after restrictions\n",
    "#print(len(df_xerawdp.values)/xerawdpTree.GetEntries())\n",
    "print(len(df_pax.values)/len(data.values))"
   ]
  },
  {
   "cell_type": "markdown",
   "metadata": {},
   "source": [
    "## Event Restrictions\n",
    "\n",
    "In a perfect $^{83m}Kr$ world we search for two distinct s1-s2 pairs. With xerawdp data this is acomplished by requiring at least 2 s1s and at least 1 s2, while in pax we simply require at least 2 interactions with distinct s1s (assuming interactions[0] is the first valid s1-s2 pair).\n",
    "\n",
    "Xerawdp Restrictions | Pax Restrictions\n",
    "---------------------|-----------------\n",
    "NbS1Peaks >= 2 | len(event.interactions) > 0\n",
    "S1sTot[0] > 0 | $$\\exists \\ interaction:interaction.s1 \\neq interactions[0].s1$$\n",
    "NbS1Peaks >= 1 |\n",
    "$$ \\textbf{Table 2: }\\text{Xerawdp and Pax Event Restrictions }$$\n",
    "\n",
    "After these event restrictions the acceptance ratios are $0.6262$ and $0.3329$ for Xerawdp and Pax respectively.\n",
    "\n"
   ]
  },
  {
   "cell_type": "code",
   "execution_count": null,
   "metadata": {
    "collapsed": false
   },
   "outputs": [],
   "source": [
    "# Add some colums to dataframes for easy cut comparison\n",
    "for df in [df_xerawdp,df_pax]:\n",
    "    df['s1Dt'] = df['s11Time']-df['s10Time']\n",
    "    df['s1Gap'] = df['s11LeftEdge']-df['s10RightEdge']\n",
    "    df['s20Width'] = df['s20RightEdge']-df['s20LeftEdge']\n",
    "    df['s1sSpan'] = df['s11RightEdge']-df['s10LeftEdge']\n",
    "    df['s1s2Deficit'] = df['s20Width']-df['s1sSpan']\n",
    "    df['s1sRatio'] = df['s11Area']/df['s10Area']"
   ]
  },
  {
   "cell_type": "code",
   "execution_count": null,
   "metadata": {
    "collapsed": false
   },
   "outputs": [],
   "source": [
    "cuts = [ ['s10Coin',2,'none',50,0,100,'channels'],\n",
    "         ['s11Coin',2,'none',50,0,100,'channels'],\n",
    "         ['s20Area',150,'none',50,0,30000,'PE'],\n",
    "         ['s1Gap',0,'none',50,-5000,5000,'ns'],\n",
    "         ['s21Area','none',150,50,0,20000,'PE'],\n",
    "         ['s1s2Deficit',0,'none',50,-5000,5000,'ns'],\n",
    "         ['s1Dt',500,1000,50,-1000,5000,'ns'],\n",
    "         ['s1sRatio',0.1,1.0,50,0,1.2,'PE/PE']]"
   ]
  },
  {
   "cell_type": "code",
   "execution_count": null,
   "metadata": {
    "collapsed": false,
    "scrolled": false
   },
   "outputs": [],
   "source": [
    "for cut in cuts:\n",
    "    cut_compare(df_xerawdp,df_pax,cut)"
   ]
  },
  {
   "cell_type": "code",
   "execution_count": null,
   "metadata": {
    "collapsed": false
   },
   "outputs": [],
   "source": [
    "print(n1_cuts(df_xerawdp,cuts)/xerawdpTree.GetEntries())\n",
    "print(n1_cuts(df_pax,cuts)/len(data.values))"
   ]
  },
  {
   "cell_type": "markdown",
   "metadata": {},
   "source": [
    "## Event Selection\n",
    "\n",
    "With the restrictions in place we pull the desirable data from xerawdp and pax data, and move forward with event selection treating both processors on an equal footing. The selections considered here are taken from Richard's production of LCE maps for Xerawdp.\n",
    "\n",
    "Figures 1-7 shows plots of each selection in its own parameter space with the acceptance shown in the figures themselves (0+1 approach). For another interpretation of the performance of these selections we consider the total acceptance ratios with the $n-1$ approach. Table 3 shows the results."
   ]
  },
  {
   "cell_type": "code",
   "execution_count": null,
   "metadata": {
    "collapsed": false,
    "scrolled": false
   },
   "outputs": [],
   "source": [
    "plt.rcParams['figure.figsize'] = (20.0, 18.0)  \n",
    "\n",
    "plt.imshow(mpimg.imread('KrLce_Figures/f_s10CoinHists.png'))\n",
    "plt.title('Fig 1: Histogram for $s10Coin\\ >=\\ 2$')\n",
    "plt.axis('off')\n",
    "plt.show()\n",
    "\n",
    "plt.imshow(mpimg.imread('KrLce_Figures/f_s11CoinHists.png'))\n",
    "plt.title('Fig 2: Histogram for $s11Coin\\ >=\\ 2$')\n",
    "plt.axis('off')\n",
    "plt.show()\n",
    "\n",
    "plt.imshow(mpimg.imread('KrLce_Figures/f_s20AreaHists.png'))\n",
    "plt.title('Fig 3: Histogram for $s20Area\\ >=\\ 150$')\n",
    "plt.axis('off')\n",
    "plt.show()\n",
    "\n",
    "plt.imshow(mpimg.imread('KrLce_Figures/f_s1GapHists.png'))\n",
    "plt.title('Fig 4: Histogram for $s1Gap\\ =\\ s11LeftEdge\\ -\\ s10RightEdge\\ >=\\ 0$')\n",
    "plt.axis('off')\n",
    "plt.show()\n",
    "\n",
    "plt.imshow(mpimg.imread('KrLce_Figures/f_s21AreaHists.png'))\n",
    "plt.title('Fig 5: Histogram for $s21Area\\ <=\\ 150$')\n",
    "plt.axis('off')\n",
    "plt.show()\n",
    "\n",
    "plt.imshow(mpimg.imread('KrLce_Figures/f_s1s2DeficitHists.png'))\n",
    "plt.title('Fig 6: Histogram for $s1s2Deficit\\ =\\ (s20RightEdge-s20LeftEdge)\\ -\\ (s11RightEdge-s10LeftEdge)\\ >=\\ 0$')\n",
    "plt.axis('off')\n",
    "plt.show()\n",
    "\n",
    "plt.imshow(mpimg.imread('KrLce_Figures/f_s1DtHists.png'))\n",
    "plt.title('Fig 7: Histogram for $500\\ <=\\ s1Dt\\ =\\ s11Time-s10Time\\ <=\\ 1000$')\n",
    "plt.axis('off')\n",
    "plt.show()\n",
    "\n",
    "plt.imshow(mpimg.imread('KrLce_Figures/f_s1sRatioHists.png'))\n",
    "plt.title('Fig 8: Histogram for $0.1\\ <=\\ s1sRatio\\ =\\ s11Area/s10Area\\ <=\\ 1.0$')\n",
    "plt.axis('off')\n",
    "plt.show()"
   ]
  },
  {
   "cell_type": "markdown",
   "metadata": {},
   "source": [
    "Excluded Selection | Xerawdp Acceptance Ratio | Pax Acceptance Ratio\n",
    "-------------------|--------------------------|---------------------\n",
    "none | 0.03722 | 0.05408\n",
    "s10Coin>=2 | 0.03722 | 0.05408\n",
    "s11Coin>=2 | 0.03797 | 0.05408\n",
    "s20Area>=150 | 0.03735 |  0.05410\n",
    "s1Gap=s11LeftEdge-s10RightEdge>=0 | 0.03736 | 0.05408\n",
    "s21Area<=150 | 0.03751 | 0.05437\n",
    "s1s2Deficit=(s20RightEdge-s20LeftEdge)-(s11RightEdge-s10LeftEdge)>=0 | 0.03722 | 0.05408\n",
    "500<=s1Dt=s11Time-s10Time<=1000 | 0.09620 | 0.2535\n",
    "0.1<=s1sRatio=s11Area/s10Area<=1.0 | 0.03918 | 0.05493\n",
    "$$\\textbf{Table 3: }\\text{Xerawdp and Pax Acceptance Ratios for n-1 Selection Study}$$"
   ]
  },
  {
   "cell_type": "code",
   "execution_count": null,
   "metadata": {
    "collapsed": false
   },
   "outputs": [],
   "source": [
    "df_xerawdp_cut = apply_cuts(df_xerawdp,cuts)\n",
    "print(len(df_xerawdp_cut.values))\n",
    "df_pax_cut = apply_cuts(df_pax,cuts)\n",
    "print(len(df_pax_cut.values))"
   ]
  },
  {
   "cell_type": "code",
   "execution_count": null,
   "metadata": {
    "collapsed": true
   },
   "outputs": [],
   "source": [
    "h_xy_xerawdp = ROOT.TH2D('','',50,-16,16,50,-17,17)\n",
    "h_xy_pax = ROOT.TH2D('','',50,-16,16,50,-17,17)\n",
    "\n",
    "for i in range(len(df_xerawdp_cut.values)):\n",
    "    h_xy_xerawdp.Fill(df_xerawdp_cut['i0x'].values[i],df_xerawdp_cut['i0y'].values[i])\n",
    "    \n",
    "for i in range(len(df_pax_cut.values)):\n",
    "    h_xy_pax.Fill(df_pax_cut['i0x'].values[i],df_pax_cut['i0y'].values[i])"
   ]
  },
  {
   "cell_type": "code",
   "execution_count": null,
   "metadata": {
    "collapsed": false
   },
   "outputs": [],
   "source": [
    "c1 = ROOT.TCanvas('','',1600,700)\n",
    "ROOT.gStyle.SetOptStat(0)\n",
    "c1.Divide(2,1,0.02,0.02)\n",
    "\n",
    "p1 = c1.cd(1)\n",
    "p1.SetLogz()\n",
    "h_xy_xerawdp.GetXaxis().SetTitle('x (cm)')\n",
    "h_xy_xerawdp.GetXaxis().CenterTitle()\n",
    "h_xy_xerawdp.GetYaxis().SetTitle('y (cm)')\n",
    "h_xy_xerawdp.GetYaxis().CenterTitle()\n",
    "h_xy_xerawdp.SetTitle('Xerawdp x vs. y Histogram')\n",
    "h_xy_xerawdp.SetMaximum(3e2)\n",
    "h_xy_xerawdp.Draw('colz')\n",
    "\n",
    "p2 = c1.cd(2)\n",
    "p2.SetLogz()\n",
    "h_xy_pax.GetXaxis().SetTitle('x (cm)')\n",
    "h_xy_pax.GetXaxis().CenterTitle()\n",
    "h_xy_pax.GetYaxis().SetTitle('y (cm)')\n",
    "h_xy_pax.GetYaxis().CenterTitle()\n",
    "h_xy_pax.SetTitle('Pax x vs. y Histogram')\n",
    "h_xy_pax.SetMaximum(3e2)\n",
    "h_xy_pax.Draw('colz')\n",
    "\n",
    "c1.Print('./KrLce_Figures/f_xyHists.png')\n",
    "c1.Clear()"
   ]
  },
  {
   "cell_type": "code",
   "execution_count": null,
   "metadata": {
    "collapsed": false
   },
   "outputs": [],
   "source": [
    "h_rrz_xerawdp = ROOT.TH2D('','',50,0,280,50,5,-35)\n",
    "h_rrz_pax = ROOT.TH2D('','',50,0,280,50,5,-35)\n",
    "\n",
    "for i in range(len(df_xerawdp_cut.values)):\n",
    "    rr = df_xerawdp_cut['i0x'].values[i]**2+df_xerawdp_cut['i0y'].values[i]**2\n",
    "    h_rrz_xerawdp.Fill(rr,df_xerawdp_cut['i0z'].values[i])\n",
    "    \n",
    "for i in range(len(df_pax_cut.values)):\n",
    "    rr = df_pax_cut['i0x'].values[i]**2+df_pax_cut['i0y'].values[i]**2\n",
    "    h_rrz_pax.Fill(rr,df_pax_cut['i0z'].values[i])"
   ]
  },
  {
   "cell_type": "code",
   "execution_count": null,
   "metadata": {
    "collapsed": false
   },
   "outputs": [],
   "source": [
    "c1 = ROOT.TCanvas('','',1600,700)\n",
    "ROOT.gStyle.SetOptStat(0)\n",
    "c1.Divide(2,1,0.02,0.02)\n",
    "\n",
    "p1 = c1.cd(1)\n",
    "p1.SetLogz()\n",
    "h_rrz_xerawdp.GetXaxis().SetTitle('r^{2} (cm^{2})')\n",
    "h_rrz_xerawdp.GetXaxis().CenterTitle()\n",
    "h_rrz_xerawdp.GetYaxis().SetTitle('z (cm)')\n",
    "h_rrz_xerawdp.GetYaxis().CenterTitle()\n",
    "h_rrz_xerawdp.SetTitle('Xerawdp\\ r^{2}\\ vs.\\ z\\  Histogram')\n",
    "h_rrz_xerawdp.SetMaximum(3e2)\n",
    "h_rrz_xerawdp.Draw('colz')\n",
    "\n",
    "p2 = c1.cd(2)\n",
    "p2.SetLogz()\n",
    "h_rrz_pax.GetXaxis().SetTitle('r^{2} (cm^{2})')\n",
    "h_rrz_pax.GetXaxis().CenterTitle()\n",
    "h_rrz_pax.GetYaxis().SetTitle('z (cm)')\n",
    "h_rrz_pax.GetYaxis().CenterTitle()\n",
    "h_rrz_pax.SetTitle('Pax\\ r^{2}\\ vs.\\ z\\  Histogram')\n",
    "h_rrz_pax.SetMaximum(3e2)\n",
    "h_rrz_pax.Draw('colz')\n",
    "\n",
    "c1.Print('./KrLce_Figures/f_rrzHists.png')\n",
    "c1.Clear()"
   ]
  },
  {
   "cell_type": "code",
   "execution_count": null,
   "metadata": {
    "collapsed": true
   },
   "outputs": [],
   "source": [
    "h_z_xerawdp = ROOT.TH1D('','',50,-5,35)\n",
    "h_z_pax = ROOT.TH1D('','',50,-5,35)\n",
    "\n",
    "for i in range(len(df_xerawdp_cut.values)):\n",
    "    h_z_xerawdp.Fill(df_xerawdp_cut['i0z'].values[i])\n",
    "    \n",
    "for i in range(len(df_pax_cut.values)):\n",
    "    h_z_pax.Fill(df_pax_cut['i0z'].values[i])"
   ]
  },
  {
   "cell_type": "code",
   "execution_count": null,
   "metadata": {
    "collapsed": false
   },
   "outputs": [],
   "source": [
    "c1 = ROOT.TCanvas('','',1600,700)\n",
    "ROOT.gStyle.SetOptStat(0)\n",
    "c1.Divide(2,1,0.02,0.02)\n",
    "\n",
    "p1 = c1.cd(1)\n",
    "p1.SetLogz()\n",
    "h_z_xerawdp.GetXaxis().SetTitle('z (cm)')\n",
    "h_z_xerawdp.GetXaxis().CenterTitle()\n",
    "h_z_xerawdp.SetTitle('Xerawdp z Histogram')\n",
    "h_z_xerawdp.SetMaximum(6e3)\n",
    "h_z_xerawdp.Draw()\n",
    "\n",
    "p2 = c1.cd(2)\n",
    "p2.SetLogz()\n",
    "h_z_pax.GetXaxis().SetTitle('z (cm)')\n",
    "h_z_pax.GetXaxis().CenterTitle()\n",
    "h_z_pax.SetTitle('Pax z Histogram')\n",
    "h_z_pax.SetMaximum(6e3)\n",
    "h_z_pax.Draw()\n",
    "\n",
    "c1.Print('./KrLce_Figures/f_zHists.png')\n",
    "c1.Clear()"
   ]
  },
  {
   "cell_type": "code",
   "execution_count": null,
   "metadata": {
    "collapsed": false
   },
   "outputs": [],
   "source": [
    "h_s1s_xerawdp = ROOT.TH2D('','',50,0,280,50,0,120)\n",
    "h_s1s_pax = ROOT.TH2D('','',50,0,280,50,0,120)\n",
    "\n",
    "for i in range(len(df_xerawdp_cut.values)):\n",
    "    h_s1s_xerawdp.Fill(df_xerawdp_cut['s10Area'].values[i],df_xerawdp_cut['s11Area'].values[i])\n",
    "    \n",
    "for i in range(len(df_pax_cut.values)):\n",
    "    h_s1s_pax.Fill(df_pax_cut['s10Area'].values[i],df_pax_cut['s11Area'].values[i])"
   ]
  },
  {
   "cell_type": "code",
   "execution_count": null,
   "metadata": {
    "collapsed": false
   },
   "outputs": [],
   "source": [
    "c1 = ROOT.TCanvas('','',1600,700)\n",
    "ROOT.gStyle.SetOptStat(0)\n",
    "c1.Divide(2,1,0.02,0.02)\n",
    "\n",
    "p1 = c1.cd(1)\n",
    "p1.SetLogz()\n",
    "h_s1s_xerawdp.GetXaxis().SetTitle('s10Area (PE)')\n",
    "h_s1s_xerawdp.GetXaxis().CenterTitle()\n",
    "h_s1s_xerawdp.GetYaxis().SetTitle('s11Area (PE)')\n",
    "h_s1s_xerawdp.GetYaxis().CenterTitle()\n",
    "h_s1s_xerawdp.SetTitle('Xerawdp s10Area vs. s11Area Histogram')\n",
    "h_z_xerawdp.SetMaximum(5e3)\n",
    "h_s1s_xerawdp.Draw('colz')\n",
    "\n",
    "p2 = c1.cd(2)\n",
    "p2.SetLogz()\n",
    "h_s1s_pax.GetXaxis().SetTitle('s10Area (PE)')\n",
    "h_s1s_pax.GetXaxis().CenterTitle()\n",
    "h_s1s_pax.GetYaxis().SetTitle('s11Area (PE)')\n",
    "h_s1s_pax.GetYaxis().CenterTitle()\n",
    "h_s1s_pax.SetTitle('Pax s10Area vs. s11Area Histogram')\n",
    "h_z_pax.SetMaximum(5e3)\n",
    "h_s1s_pax.Draw('colz')\n",
    "\n",
    "c1.Print('./KrLce_Figures/f_s1sHists.png')\n",
    "c1.Clear()"
   ]
  },
  {
   "cell_type": "code",
   "execution_count": null,
   "metadata": {
    "collapsed": true
   },
   "outputs": [],
   "source": [
    "h_dt_xerawdp = ROOT.TH1D('','',70,400,1100)\n",
    "h_dt_pax = ROOT.TH1D('','',70,400,1100)\n",
    "\n",
    "for i in range(len(df_xerawdp_cut.values)):\n",
    "    h_dt_xerawdp.Fill(df_xerawdp_cut['s1Dt'].values[i])\n",
    "    \n",
    "for i in range(len(df_pax_cut.values)):\n",
    "    h_dt_pax.Fill(df_pax_cut['s1Dt'].values[i])"
   ]
  },
  {
   "cell_type": "code",
   "execution_count": null,
   "metadata": {
    "collapsed": true
   },
   "outputs": [],
   "source": [
    "def expDec(x,p):\n",
    "    f = p[2]+p[0]*np.exp(-np.log(2)*x[0]/p[1])\n",
    "    return f"
   ]
  },
  {
   "cell_type": "code",
   "execution_count": null,
   "metadata": {
    "collapsed": false
   },
   "outputs": [],
   "source": [
    "fitFun = ROOT.TF1(\"fitFun\",expDec,500,1000,3)\n",
    "fitFun.SetParameter(0,200000)\n",
    "fitFun.SetParameter(1,155)\n",
    "fitFun.SetParameter(2,10)\n",
    "\n",
    "c1 = ROOT.TCanvas('','',1600,700)\n",
    "ROOT.gStyle.SetOptStat(0)\n",
    "c1.Divide(2,1,0.02,0.02)\n",
    "\n",
    "p1 = c1.cd(1)\n",
    "p1.SetLogy()\n",
    "h_dt_xerawdp.GetXaxis().SetTitle('s11Time - s10Time (ns)')\n",
    "h_dt_xerawdp.GetXaxis().CenterTitle()\n",
    "h_dt_xerawdp.SetTitle('Xerawdp s1Dt Histogram')\n",
    "h_dt_xerawdp.SetMaximum(2e4)\n",
    "h_dt_xerawdp.Draw()\n",
    "h_dt_xerawdp.Fit(\"fitFun\",\"\",\"\",500,1000)\n",
    "fit1 = h_dt_xerawdp.GetFunction(\"fitFun\")\n",
    "chi21 = fit1.GetChisquare()\n",
    "ndf1 = fit1.GetNDF()\n",
    "p11 = fit1.GetParameter(1)\n",
    "e11 = fit1.GetParError(1)\n",
    "pt1 = ROOT.TPaveText(.58, .68, .88, .88, 'NDC')\n",
    "pt1.AddText(\"t_{1/2}=%1.3f\"%p11)\n",
    "pt1.AddText(\"#sigma=%1.3f\"%e11)\n",
    "pt1.AddText(\"#chi^{2}/NDF=%1.3f/%i\"%(chi21,ndf1))\n",
    "pt1.Draw()\n",
    "\n",
    "p2 = c1.cd(2)\n",
    "p2.SetLogy()\n",
    "h_dt_pax.GetXaxis().SetTitle('s11Time - s10Time (ns)')\n",
    "h_dt_pax.GetXaxis().CenterTitle()\n",
    "h_dt_pax.SetTitle('Pax s1Dt Histogram')\n",
    "h_dt_pax.SetMaximum(2e4)\n",
    "h_dt_pax.Draw()\n",
    "h_dt_pax.Fit(\"fitFun\",\"\",\"\",500,1000)\n",
    "fit2 = h_dt_pax.GetFunction(\"fitFun\")\n",
    "chi22 = fit2.GetChisquare()\n",
    "ndf2 = fit2.GetNDF()\n",
    "p12 = fit2.GetParameter(1)\n",
    "e12 = fit2.GetParError(1)\n",
    "pt2 = ROOT.TPaveText(.58, .68, .88, .88, 'NDC')\n",
    "pt2.AddText(\"t_{1/2}=%1.3f\"%p12)\n",
    "pt2.AddText(\"#sigma=%1.3f\"%e12)\n",
    "pt2.AddText(\"#chi^{2}/NDF=%1.3f/%i\"%(chi22,ndf2))\n",
    "pt2.Draw()\n",
    "\n",
    "c1.Print('./KrLce_Figures/f_dtHists.png')\n",
    "c1.Clear()"
   ]
  },
  {
   "cell_type": "markdown",
   "metadata": {},
   "source": [
    "## Another Glance at Event Selection\n",
    "\n",
    "Here we simply consider a few notable plots of this event selection in Xerawdp and Pax. Figures 9 and 10 show the $x\\ vs.\\ y$ and $r^2\\ vs.\\ z$ respectively. Figure 11 shows $s10Area\\ vs. s11Area$, and Figure 12 shows the $s11Time-s10Time$ histogram with halflife fit."
   ]
  },
  {
   "cell_type": "code",
   "execution_count": null,
   "metadata": {
    "collapsed": false
   },
   "outputs": [],
   "source": [
    "plt.rcParams['figure.figsize'] = (12.0, 10.0)  \n",
    "\n",
    "plt.imshow(mpimg.imread('KrLce_Figures/f_xyHists.png'))\n",
    "plt.title('Fig 9: $x\\ vs.\\ y$ Histograms')\n",
    "plt.axis('off')\n",
    "plt.show()\n",
    "\n",
    "plt.imshow(mpimg.imread('KrLce_Figures/f_rrzHists.png'))\n",
    "plt.title('Fig 10: $r^2\\ vs.\\ z$ Histograms')\n",
    "plt.axis('off')\n",
    "plt.show()\n",
    "\n",
    "plt.imshow(mpimg.imread('KrLce_Figures/f_s1sHists.png'))\n",
    "plt.title('Fig 11: $s10Area\\ vs.\\ s11Area$ Histograms')\n",
    "plt.axis('off')\n",
    "plt.show()\n",
    "\n",
    "plt.imshow(mpimg.imread('KrLce_Figures/f_dtHists.png'))\n",
    "plt.title('Fig 12: $s1Dt$ Histograms')\n",
    "plt.axis('off')\n",
    "plt.show()"
   ]
  },
  {
   "cell_type": "markdown",
   "metadata": {},
   "source": [
    "<a id='lce_maps'></a>\n",
    "# LCE Maps"
   ]
  },
  {
   "cell_type": "code",
   "execution_count": null,
   "metadata": {
    "collapsed": true
   },
   "outputs": [],
   "source": [
    "R = 15.25\n",
    "Z = -30.3\n",
    "A_r = [R/5, 2*R/5, 3*R/5, 4*R/5, R]\n",
    "N_phi = [10, 15, 20, 40, 60]\n",
    "N_z = 10.0\n",
    "bin_settings = [R,Z,A_r,N_phi,N_z]"
   ]
  },
  {
   "cell_type": "code",
   "execution_count": null,
   "metadata": {
    "collapsed": false
   },
   "outputs": [],
   "source": [
    "bin_data_s10_xerawdp = xe100_to_lyBins(df_xerawdp_cut,bin_settings,'s10',bin_spec_dir='Bin_Hists_s10_xerawdp') # for Xerawdp\n",
    "lyBins_to_txt(bin_data_s10_xerawdp,'s1xyzmap-s10-20160615-xerawdp.txt')\n",
    "\n",
    "bin_data_s10_pax = xe100_to_lyBins(df_pax_cut,bin_settings,'s10',bin_spec_dir='Bin_Hists_s10_pax') # for Pax\n",
    "lyBins_to_txt(bin_data_s10_pax,'s1xyzmap-s10-20160615-pax.txt')\n",
    "\n",
    "difference_in_ly('s1xyzmap-s10-20160615-xerawdp.txt','s1xyzmap-s10-20160615-pax.txt','lceDifference_s10.txt')\n",
    "triple_plot('s1xyzmap-s10-20160615-xerawdp.txt','s1xyzmap-s10-20160615-pax.txt','lceDifference_s10.txt', 's10',bin_settings,'./KrLce_Figures/f_lceMap_s10.png')"
   ]
  },
  {
   "cell_type": "code",
   "execution_count": null,
   "metadata": {
    "collapsed": false
   },
   "outputs": [],
   "source": [
    "bin_data_s11_xerawdp = xe100_to_lyBins(df_xerawdp_cut,bin_settings,'s11',bin_spec_dir='Bin_Hists_s11_xerawdp') # for Xerawdp\n",
    "lyBins_to_txt(bin_data_s11_xerawdp,'s1xyzmap-s11-20160615-xerawdp.txt')\n",
    "\n",
    "bin_data_s11_pax = xe100_to_lyBins(df_pax_cut,bin_settings,'s11',bin_spec_dir='Bin_Hists_s11_pax') # for Pax\n",
    "lyBins_to_txt(bin_data_s11_pax,'s1xyzmap-s11-20160615-pax.txt')\n",
    "\n",
    "difference_in_ly('s1xyzmap-s11-20160615-xerawdp.txt','s1xyzmap-s11-20160615-pax.txt','lceDifference_s11.txt')\n",
    "triple_plot('s1xyzmap-s11-20160615-xerawdp.txt','s1xyzmap-s11-20160615-pax.txt','lceDifference_s11.txt', 's11',bin_settings,'./KrLce_Figures/f_lceMap_s11.png')"
   ]
  },
  {
   "cell_type": "markdown",
   "metadata": {},
   "source": [
    "We begin with the same binning originally used by Cecilia for the $^{137}Cs$ LCE maps and again by Richard for the $^{83m}Kr$ LCE maps in Xerawdp. For each of these bins, we pull the mean S1 area from a Gaussian fitted to data. Figure 13 shows some examples of the S1 spectra that are used to extract LY values."
   ]
  },
  {
   "cell_type": "code",
   "execution_count": null,
   "metadata": {
    "collapsed": false
   },
   "outputs": [],
   "source": [
    "fig = plt.figure()\n",
    "a = fig.add_subplot(1,2,1)\n",
    "plt.imshow(mpimg.imread('Bin_Hists_s11_xerawdp/f_s11_z0_r0_phi5.png'))\n",
    "plt.title('Fig 13a: Xerawdp S11 Spectra for a Single Top Bin')\n",
    "plt.axis('off')\n",
    "b = fig.add_subplot(1,2,2)\n",
    "plt.imshow(mpimg.imread('Bin_Hists_s11_pax/f_s11_z0_r0_phi5.png'))\n",
    "plt.title('Fig 13b: Pax S11 Spectra for a Single Top Bin')\n",
    "plt.axis('off')\n",
    "plt.show()\n",
    "\n",
    "fig = plt.figure()\n",
    "a = fig.add_subplot(1,2,1)\n",
    "plt.imshow(mpimg.imread('Bin_Hists_s11_xerawdp/f_s11_z5_r4_phi29.png'))\n",
    "plt.title('Fig 14a: Xerawdp S11 Spectra for a Single Middle Bin')\n",
    "plt.axis('off')\n",
    "b = fig.add_subplot(1,2,2)\n",
    "plt.imshow(mpimg.imread('Bin_Hists_s11_pax/f_s11_z5_r4_phi29.png'))\n",
    "plt.title('Fig 14b: Pax S11 Spectra for a Single Middle Bin')\n",
    "plt.axis('off')\n",
    "plt.show()\n",
    "\n",
    "fig = plt.figure()\n",
    "a = fig.add_subplot(1,2,1)\n",
    "plt.imshow(mpimg.imread('Bin_Hists_s11_xerawdp/f_s11_z9_r2_phi5.png'))\n",
    "plt.title('Fig 15b: Xerawdp S11 Spectra for a Single Bottom Bin')\n",
    "plt.axis('off')\n",
    "b = fig.add_subplot(1,2,2)\n",
    "plt.imshow(mpimg.imread('Bin_Hists_s11_pax/f_s11_z9_r2_phi5.png'))\n",
    "plt.title('Fig 15b: Pax S11 Spectra for a Single Bottom Bin')\n",
    "plt.axis('off')\n",
    "plt.show()"
   ]
  },
  {
   "cell_type": "markdown",
   "metadata": {},
   "source": [
    "From here we are able to produce the LCE maps for the data processed by Xerawdp and Pax. Figure 14 and 15 show these LCE maps together with the absolute value of their differences for the $32\\ keV$ and $9\\ keV$ signals respectively. Note: the positions used to determine the appropriate bin are pulled from the first s2/interaction regardless of whether we consider the $32\\ keV$ or $9\\ keV$ signal.\n",
    "\n",
    "<img src=\"KrLce_Figures/f_lceMap_s10.png\">\n",
    "$$\\textbf{Figure 14: }\\text{LCE Maps for the }32\\ keV\\text{ signal of }^{83m}Kr$$  \n",
    "\n",
    "<img src=\"KrLce_Figures/f_lceMap_s11.png\">\n",
    "$$\\textbf{Figure 15: }\\text{LCE Maps for the }9\\ keV\\text{ signal of }^{83m}Kr$$  \n",
    "\n",
    "The Pax LCE maps are not spectacular due to using less than half of the data. Furthermore, the field correction in Xerawdp for the lower corner of Xe100 is left out of Pax, so the LCE in and around this region is going to be scued."
   ]
  },
  {
   "cell_type": "markdown",
   "metadata": {},
   "source": [
    "<a id='next_steps'></a>\n",
    "# Next Steps: Xenon1T\n",
    "\n",
    "  * Require at least $?\\ \\mu s$ electron lifetime\n",
    "  * Working with Calibration group to acquire new $10\\ Bq\\ ^{83m}Kr$ source\n",
    "  * $^{83m}Kr$ calibration should require 1 day of data taking"
   ]
  },
  {
   "cell_type": "markdown",
   "metadata": {},
   "source": [
    "<a id='references'></a>\n",
    "# References"
   ]
  },
  {
   "cell_type": "markdown",
   "metadata": {},
   "source": [
    "[[1] S. -C. Wu, Nuclear Data Sheets 92, 893 (2001)](nucleardatasheets_a83.pdf)  "
   ]
  }
 ],
 "metadata": {
  "kernelspec": {
   "display_name": "Python 3",
   "language": "python",
   "name": "python3"
  },
  "language_info": {
   "codemirror_mode": {
    "name": "ipython",
    "version": 3
   },
   "file_extension": ".py",
   "mimetype": "text/x-python",
   "name": "python",
   "nbconvert_exporter": "python",
   "pygments_lexer": "ipython3",
   "version": "3.4.4"
  }
 },
 "nbformat": 4,
 "nbformat_minor": 0
}
