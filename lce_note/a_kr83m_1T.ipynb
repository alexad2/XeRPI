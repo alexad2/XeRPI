{
 "cells": [
  {
   "cell_type": "markdown",
   "metadata": {},
   "source": [
    "# $^{83m}Kr$ LCE Maps: Xerawdp vs. Pax\n",
    "_Ted Berger, Dan Alexander; June 15 2016_"
   ]
  },
  {
   "cell_type": "markdown",
   "metadata": {},
   "source": [
    "# Table of Contents\n",
    "[1 - Introduction](#introduction)  \n",
    "[2 - Data and Event Selection](#data_and_selection)  \n",
    "\n",
    "[? - Next Steps](#next_steps)  \n",
    "[?? - References](#references) "
   ]
  },
  {
   "cell_type": "markdown",
   "metadata": {},
   "source": [
    "<a id='introduction'></a>\n",
    "# Introduction"
   ]
  },
  {
   "cell_type": "markdown",
   "metadata": {},
   "source": [
    "As an internal calibration, $^{83m}Kr$ proves very useful in a variety of liquid noble detectors. We utilize a solution of $^{83}Rb$ evaporated onto zeolite beads to generate $^{83m}Kr$ with a half-life of $86.2\\ days$. From there, $^{83m}Kr$, with a half-life of $1.83\\ hr$, generates a $32.1\\ keV$ conversion electron or gamma with an internal conversion coefficient of $\\alpha=2035$. This is then followed by a $9.4\\ keV$ conversion electron or gamma with an internal conversion coefficient of $\\alpha=17.09$. These decays occur with a delay half-life of $154.4\\ ns$. This decay scheme is shown in Figure 0.\n",
    "\n",
    "<img src=\"kr83m_decay_scheme.png\">\n",
    "$$\\textbf{Figure 0: }^{83m}Kr\\ \\text{ Decay Schematic} $$\n",
    "\n",
    "The short half-life of $^{83m}Kr$ and its mother permit an internal calibration without introducing unwanted signals into the experiment. Furthermore, the short half-life between the $32.1\\ keV$ and $9.4\\ keV$ calibration lines provides a unique signal that is essentially background free.\n",
    "\n",
    "This calibration should provide a uniform distribution of events throughout the detector allowing the analysis of position reconstruction algorithms, non-uniformities in drift field, relative quantum efficiencies of PMTs, light collection efficiency maps, and absolute light yield. Furthermore, the XENON100 detector is capable of measuring the half-life of the $^{83m}Kr_{1/2-}$ and $^{83m}Kr_{7/2+}$ states, though the nuances of time smearing are still under investigation. \n",
    "\n",
    "This note focusses on understanding the $^{83m}Kr$ data and generating LCE maps with the intent of building these maps for XENON1T (hopefully very soon!)."
   ]
  },
  {
   "cell_type": "markdown",
   "metadata": {},
   "source": [
    "<a id='data_and_selection'></a>\n",
    "# Data and Event Selection"
   ]
  },
  {
   "cell_type": "code",
   "execution_count": 1,
   "metadata": {
    "collapsed": false
   },
   "outputs": [
    {
     "name": "stderr",
     "output_type": "stream",
     "text": [
      "/project/lgrandi/anaconda3/envs/pax_head/lib/python3.4/site-packages/IPython/kernel/__init__.py:13: ShimWarning: The `IPython.kernel` package has been deprecated. You should import from ipykernel or jupyter_client instead.\n",
      "  \"You should import from ipykernel or jupyter_client instead.\", ShimWarning)\n"
     ]
    }
   ],
   "source": [
    "from xerawdp_helpers import *    # helper functions for retrieving xerawdp data\n",
    "from Kr83m_Basic import *        # pax minitree class for Kr83m data\n",
    "\n",
    "import hax\n",
    "hax.init(main_data_paths=['/project/lgrandi/xenon100/archive/root/merged/xenon100/run_14_pax4.1.2/'],\n",
    "         raw_data_local_path='/project/lgrandi/tunnell/')\n",
    "\n",
    "#hax.ipython.code_hider()"
   ]
  },
  {
   "cell_type": "code",
   "execution_count": 2,
   "metadata": {
    "collapsed": false
   },
   "outputs": [],
   "source": [
    "# from 2015 Kr83m diffusion-mode data\n",
    "datasets_xerawdp = ['xe100_150413_1839','xe100_150414_1535','xe100_150415_1749',\n",
    "            'xe100_150416_1832','xe100_150419_1611','xe100_150420_0304',\n",
    "            'xe100_150420_1809']\n",
    "\n",
    "# xerawdp path\n",
    "xerawdpPath = '/project/lgrandi/tunnell/run_14/NewNN/'\n",
    "\n",
    "# get xerawdp tree, apply event restrictions, and retrieve desirable data\n",
    "#  see xerawdp_helpers.py for details\n",
    "xerawdpTree = load_xerawdp_tree(datasets_xerawdp[:1], xerawdpPath)\n",
    "df_xerawdp = build_xerawdp_df(xerawdpTree)\n",
    "df_xerawdp.to_pickle('xerawdp_2S1and1S2.pkl')"
   ]
  },
  {
   "cell_type": "code",
   "execution_count": null,
   "metadata": {
    "collapsed": true
   },
   "outputs": [],
   "source": [
    "df_xerawdp = pd.read_pickle('xerawdp_2S1and1S2.pkl')"
   ]
  },
  {
   "cell_type": "code",
   "execution_count": null,
   "metadata": {
    "collapsed": true
   },
   "outputs": [],
   "source": [
    "# datasets processed by pax_4.1.2\n",
    "datasets_pax = ['xe100_150413_1839','xe100_150414_1535',\n",
    "               'xe100_150419_1611','xe100_150420_0304',\n",
    "               'xe100_150420_1809']\n",
    "\n",
    "# load minitrees\n",
    "# throws error when building minitrees for many datasets, I built them one by one\n",
    "\n",
    "data = hax.minitrees.load(datasets_pax, treemakers=Kr83m_Basic)\n",
    "data = data[data['s10Time']>=0] # remove NaNs"
   ]
  },
  {
   "cell_type": "markdown",
   "metadata": {},
   "source": [
    "<a id='references'></a>\n",
    "# References"
   ]
  },
  {
   "cell_type": "markdown",
   "metadata": {},
   "source": [
    "[[1] S. -C. Wu, Nuclear Data Sheets 92, 893 (2001)](nucleardatasheets_a83.pdf)  "
   ]
  },
  {
   "cell_type": "code",
   "execution_count": null,
   "metadata": {
    "collapsed": true
   },
   "outputs": [],
   "source": []
  }
 ],
 "metadata": {
  "kernelspec": {
   "display_name": "Python 3",
   "language": "python",
   "name": "python3"
  },
  "language_info": {
   "codemirror_mode": {
    "name": "ipython",
    "version": 3
   },
   "file_extension": ".py",
   "mimetype": "text/x-python",
   "name": "python",
   "nbconvert_exporter": "python",
   "pygments_lexer": "ipython3",
   "version": "3.4.4"
  }
 },
 "nbformat": 4,
 "nbformat_minor": 0
}
