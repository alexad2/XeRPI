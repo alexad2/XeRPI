{
 "cells": [
  {
   "cell_type": "code",
   "execution_count": null,
   "metadata": {
    "collapsed": false
   },
   "outputs": [],
   "source": [
    "# import libraries\n",
    "\n",
    "import ROOT\n",
    "import numpy as np\n",
    "from collections import defaultdict\n",
    "import pandas as pd\n",
    "from IPython.display import Image\n",
    "\n",
    "\n",
    "import hax\n",
    "hax.init(main_data_paths=['/project/lgrandi/tunnell/run_14/Kr83mDiffusion_Pax4.9.1/',\n",
    "                          '/project/lgrandi/xenon100/archive/root/merged/xenon100/run_14_pax4.1.2/'],\n",
    "         raw_data_local_path='/project/lgrandi/tunnell/')\n",
    "\n",
    "from Kr83m_Basic import *\n",
    "from lce_helpers import *\n",
    "\n",
    "\n",
    "#hax.ipython.code_hider()"
   ]
  },
  {
   "cell_type": "code",
   "execution_count": null,
   "metadata": {
    "collapsed": false
   },
   "outputs": [],
   "source": [
    "# datasets processed by pax_4.1.2\n",
    "datasets = ['xe100_150413_1839','xe100_150414_1535',\n",
    "               'xe100_150419_1611','xe100_150420_0304',\n",
    "               'xe100_150420_1809']\n",
    "\n",
    "# load minitrees\n",
    "# throws error when building minitrees for many datasets, I built them one by one\n",
    "\n",
    "data = hax.minitrees.load(datasets, treemakers=Kr83m_Basic)\n",
    "data = data[data['s10Time']>=0] # remove NaNs"
   ]
  },
  {
   "cell_type": "code",
   "execution_count": null,
   "metadata": {
    "collapsed": true
   },
   "outputs": [],
   "source": [
    "df = data[ (data['s10Coin']>=3) & (data['s20Coin']>=4) & (data['s11Coin']>=2) & \n",
    "           ((data['s21Area']==0) | (data['s21Area']>=200)) & (data['s11Area']>7) &\n",
    "           (data['s11Time']-data['s10Time']>0)]"
   ]
  },
  {
   "cell_type": "code",
   "execution_count": null,
   "metadata": {
    "collapsed": true
   },
   "outputs": [],
   "source": [
    "R = 15.25\n",
    "Z = 30.3\n",
    "A_r = [R/5, 2*R/5, 3*R/5, 4*R/5, R]\n",
    "N_phi = [10, 15, 20, 40, 60]\n",
    "N_z = 10.0\n",
    "bin_settings = [R,Z,A_r,N_phi,N_z]"
   ]
  },
  {
   "cell_type": "markdown",
   "metadata": {},
   "source": [
    "## Binning and LCE Maps\n",
    "\n",
    "We begin with the same binning originally used by Cecilia for the $^{137}Cs$ LCE maps and again by Richard for the $^{83m}Kr$ LCE maps in Xerawdp. For each of these bins, we pull the mean S1 area from a Gaussian fitted to data. For now, we stick to the 9 kev S1[1] signal for consistency with previous krypton studies.\n",
    "\n",
    "\n"
   ]
  },
  {
   "cell_type": "code",
   "execution_count": null,
   "metadata": {
    "collapsed": false
   },
   "outputs": [],
   "source": [
    "#bin_data = xe100_to_lyBins(df,bin_settings,'s11',bin_spec_dir='Bin_Hists_s11') # for Xerawdp\n",
    "bin_data = xe100_to_lyBins(df,bin_settings,'s11',bin_spec_dir='Pax_Bin_Hists_s11') # for Pax"
   ]
  },
  {
   "cell_type": "markdown",
   "metadata": {},
   "source": [
    "Xerawdp | Pax                   \n",
    "--------|----\n",
    " | <img src=\"Bin_Hists_s11/f_s11_z0_r0_phi5.png\" width = 500 height = 500>\n",
    " | <img src=\"Bin_Hists_s11/f_s11_z5_r4_phi29.png\" width = 500 height = 500>\n",
    " | <img src=\"Bin_Hists_s11/f_s11_z9_r2_phi5.png\" width = 500 height = 500>\n",
    "\n",
    "\n",
    "$$\\textbf{Figure 8: }\\text{Sample fits to 9 keV S1 distributions of different position bins in Xerawdp and Pax} $$"
   ]
  },
  {
   "cell_type": "code",
   "execution_count": null,
   "metadata": {
    "collapsed": true
   },
   "outputs": [],
   "source": [
    "#lyBins_to_txt(bin_data,'s1xyzmap-20160527-pax.txt') # for Xerawdp\n",
    "lyBins_to_txt(bin_data,'s1xyzmap-20160527-pax.txt') # for Pax\n",
    "difference_in_ly('richards_file.txt', 's1xyzmap-20160527-pax.txt')\n",
    "triple_plot('richards_file.txt','s1xyzmap-20160527-pax.txt', 'difference_in_ly.txt', 's11', bin_settings)"
   ]
  },
  {
   "cell_type": "markdown",
   "metadata": {},
   "source": [
    "Note that the figures shown above are for the same bins as those used by Richard in his original note on LCE with $^{83m}Kr$.\n",
    "\n",
    "Using this $<S1[1]Area>$, we show in Figure [something] the LCE maps for the data processed by Xerawdp, Pax, and the positive difference between them.\n",
    "\n",
    "<img src=\"triple_plot.png\">"
   ]
  },
  {
   "cell_type": "code",
   "execution_count": null,
   "metadata": {
    "collapsed": true
   },
   "outputs": [],
   "source": []
  }
 ],
 "metadata": {
  "kernelspec": {
   "display_name": "Python 3",
   "language": "python",
   "name": "python3"
  },
  "language_info": {
   "codemirror_mode": {
    "name": "ipython",
    "version": 3
   },
   "file_extension": ".py",
   "mimetype": "text/x-python",
   "name": "python",
   "nbconvert_exporter": "python",
   "pygments_lexer": "ipython3",
   "version": "3.4.4"
  }
 },
 "nbformat": 4,
 "nbformat_minor": 0
}
