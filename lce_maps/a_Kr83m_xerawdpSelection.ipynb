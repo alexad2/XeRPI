{
 "cells": [
  {
   "cell_type": "code",
   "execution_count": 1,
   "metadata": {
    "collapsed": false,
    "scrolled": true
   },
   "outputs": [
    {
     "name": "stderr",
     "output_type": "stream",
     "text": [
      "/project/lgrandi/anaconda3/envs/pax_head/lib/python3.4/site-packages/IPython/kernel/__init__.py:13: ShimWarning: The `IPython.kernel` package has been deprecated. You should import from ipykernel or jupyter_client instead.\n",
      "  \"You should import from ipykernel or jupyter_client instead.\", ShimWarning)\n"
     ]
    }
   ],
   "source": [
    "# import libraries\n",
    "\n",
    "import ROOT\n",
    "ROOT.gROOT.LoadMacro(\"stl_loader.h+\")\n",
    "\n",
    "from collections import defaultdict\n",
    "import numpy as np\n",
    "import pandas as pd\n",
    "from IPython.display import Image\n",
    "\n",
    "import hax\n",
    "\n",
    "from lce_helpers import *\n",
    "\n",
    "#hax.ipython.code_hider()"
   ]
  },
  {
   "cell_type": "code",
   "execution_count": 2,
   "metadata": {
    "collapsed": true
   },
   "outputs": [],
   "source": [
    "# from 2015 Kr83m diffusion-mode data\n",
    "datasets = ['xe100_150413_1839','xe100_150414_1535','xe100_150415_1749',\n",
    "            'xe100_150416_1832','xe100_150419_1611','xe100_150420_0304',\n",
    "            'xe100_150420_1809']\n",
    "\n",
    "# xerawdp path\n",
    "xerawdpPath = '/project/lgrandi/tunnell/run_14/NewNN/'"
   ]
  },
  {
   "cell_type": "code",
   "execution_count": 3,
   "metadata": {
    "collapsed": false
   },
   "outputs": [
    {
     "name": "stdout",
     "output_type": "stream",
     "text": [
      "5093213\n"
     ]
    }
   ],
   "source": [
    "# get xerawdp tree\n",
    "xerawdpTree = ROOT.TChain('T1')\n",
    "t2 = ROOT.TChain('T2')\n",
    "t3 = ROOT.TChain('T3')\n",
    "\n",
    "for dataset in datasets:\n",
    "    xerawdpTree.AddFile(xerawdpPath+dataset+'.root')\n",
    "    t2.AddFile(xerawdpPath+dataset+'.root')\n",
    "    t3.AddFile(xerawdpPath+dataset+'.root')\n",
    "    \n",
    "xerawdpTree.AddFriend(t2)\n",
    "xerawdpTree.AddFriend(t3)\n",
    "print(xerawdpTree.GetEntries())"
   ]
  },
  {
   "cell_type": "code",
   "execution_count": 6,
   "metadata": {
    "collapsed": false
   },
   "outputs": [
    {
     "name": "stdout",
     "output_type": "stream",
     "text": [
      "[[ 1657007.        0.]\n",
      " [ 1391466.        0.]\n",
      " [  151627.        0.]\n",
      " [ 1834915.        0.]\n",
      " [ 3170902.        0.]\n",
      " [  258139.        0.]\n",
      " [  890042.        0.]\n",
      " [ 2430306.        0.]]\n"
     ]
    }
   ],
   "source": [
    "cut_acceptance = np.zeros((8,2))\n",
    "for i in range(xerawdpTree.GetEntries()):\n",
    "    xerawdpTree.GetEntry(i)\n",
    "    \n",
    "    if xerawdpTree.NbS1Peaks < 2 or xerawdpTree.S1sTot[0] <= 0 or xerawdpTree.NbS2Peaks < 1:\n",
    "        cut_acceptance[0,0] += 1\n",
    "        continue\n",
    "    if xerawdpTree.S1sCoin[0] < 2 or xerawdpTree.S1sCoin[1] < 2:\n",
    "        cut_acceptance[1,0] += 1\n",
    "    if xerawdpTree.cS2sTot[0] < 150:\n",
    "        cut_acceptance[2,0] += 1\n",
    "    if xerawdpTree.S1sLeftEdge[1]-xerawdpTree.S1sRightEdge[0] <= 0:\n",
    "        cut_acceptance[3,0] += 1\n",
    "    dt_s1 = (xerawdpTree.S1sPeak[1]-xerawdpTree.S1sPeak[0])*10\n",
    "    if dt_s1 < 500 or dt_s1 > 1000:\n",
    "        cut_acceptance[4,0] += 1\n",
    "    if xerawdpTree.NbS2Peaks > 1 and xerawdpTree.cS2sTot[1] > 150:\n",
    "        cut_acceptance[5,0] += 1\n",
    "    if xerawdpTree.S2sRightEdge[0]-xerawdpTree.S2sLeftEdge[0] < xerawdpTree.S1sRightEdge[1]-xerawdpTree.S1sLeftEdge[0]:\n",
    "        cut_acceptance[6,0] += 1\n",
    "    if xerawdpTree.S1sTot[1]/xerawdpTree.S1sTot[0] < 0.1 or xerawdpTree.S1sTot[1]/xerawdpTree.S1sTot[0] > 1.0:\n",
    "        cut_acceptance[7,0] += 1\n",
    "    \n",
    "print(cut_acceptance)"
   ]
  },
  {
   "cell_type": "code",
   "execution_count": null,
   "metadata": {
    "collapsed": false
   },
   "outputs": [],
   "source": [
    "2.62*10."
   ]
  },
  {
   "cell_type": "code",
   "execution_count": null,
   "metadata": {
    "collapsed": true
   },
   "outputs": [],
   "source": [
    "print(cut_acceptance)"
   ]
  },
  {
   "cell_type": "code",
   "execution_count": null,
   "metadata": {
    "collapsed": false
   },
   "outputs": [],
   "source": [
    "# Define and Apply 2 S1 and 1 S2 Xerawdp Event Selection\n",
    "\n",
    "xerawdpTree.SetAlias('Xkr_2S1','NbS1Peaks >=2')\n",
    "xerawdpTree.SetAlias('Xkr_1S2','NbS2Peaks == 1 || (NbS2Peaks > 1 && cS2sTot[1] > 150)')\n",
    "xerawdpTree.SetAlias('Xkr_S1sCoin','S1sCoin[0] >= 2 && S1sCoin[1] >=2')\n",
    "xerawdpTree.SetAlias('Xkr_S20Area','cS2sTot[0] >= 150')\n",
    "xerawdpTree.SetAlias('Xkr_S1sPeakOverlap','S1sLeftEdge[1] - S1sRightEdge[0] > 0')\n",
    "xerawdpTree.SetAlias('Xkr_S1Times','(S1sPeak[1]-S1sPeak[0])*10 >= 500 && (S1sPeak[1]-S1sPeak[0])*10 <= 1000')\n",
    "xerawdpTree.SetAlias('Xkr_S1sAreaRatio','S1sTot[1]/S1sTot[0] > 0.1 && S1sTot[1]/S1sTot[0] < 1.0')\n",
    "xerawdpTree.SetAlias('Xkr_S1SpanS2Width','S2sRightEdge[0]-S2sLeftEdge[0] >= S1sRightEdge[1]-S1sLeftEdge[0]')\n",
    "xerawdpTree.SetAlias('Kr_2S1and1S2','Xkr_2S1 && Xkr_1S2 && Xkr_S1sCoin && Xkr_S20Area && Xkr_S1sPeakOverlap')\n",
    "\n",
    "Lkr_2S1and1S2 = ROOT.TEventList(\"Lkr_2S1and1S2\")\n",
    "Lkr_2S1and1S2_file = ROOT.TFile(\"Lkr_2S1and1S2.root\",\"RECREATE\")\n",
    "xerawdpTree.Draw(\">>Lkr_2S1and1S2\",\"Kr_2S1and1S2\")\n",
    "Lkr_2S1and1S2_file.Write()\n",
    "Lkr_2S1and1S2_file.Close()"
   ]
  },
  {
   "cell_type": "code",
   "execution_count": null,
   "metadata": {
    "collapsed": false
   },
   "outputs": [],
   "source": [
    "Lkr_2S1and1S2_file = ROOT.TFile(\"Lkr_2S1and1S2.root\",\"Read\")\n",
    "Lkr_2S1and1S2 = Lkr_2S1and1S2_file.Get(\"Lkr_2S1and1S2\")\n",
    "xerawdpTree.SetEventList(Lkr_2S1and1S2)\n",
    "print('Kr83m 2S1 and 1S2: '+str(Lkr_2S1and1S2.GetN())+' '+str(Lkr_2S1and1S2.GetN()/xerawdpTree.GetEntries())+'\\n')\n",
    "\n",
    "data = defaultdict(list)\n",
    "\n",
    "for i in range(Lkr_2S1and1S2.GetN()):\n",
    "    xerawdpTree.GetEntry(Lkr_2S1and1S2.GetEntry(i))\n",
    "    \n",
    "    data['cs10Area'].append( xerawdpTree.cxS1sTot[0] )\n",
    "    data['s10Area'].append( xerawdpTree.S1sTot[0] )\n",
    "    data['s10Time'].append( xerawdpTree.S1sPeak[0] )\n",
    "    data['s10Coin'].append( xerawdpTree.S1sCoin[0] )\n",
    "    \n",
    "    \n",
    "    data['cs11Area'].append( xerawdpTree.cxS1sTot[1] )\n",
    "    data['s11Area'].append( xerawdpTree.S1sTot[1] )\n",
    "    data['s11Time'].append( xerawdpTree.S1sPeak[1] )\n",
    "    data['s11Coin'].append( xerawdpTree.S1sCoin[1] )\n",
    "    \n",
    "    data['s10x'].append( xerawdpTree.cS2sPosNn[0][0] )\n",
    "    data['s10y'].append( xerawdpTree.cS2sPosNn[0][1] )\n",
    "    data['s10z'].append( xerawdpTree.cS2sPosNn[0][2] )\n",
    "    \n",
    "    data['s11x'].append( xerawdpTree.cS2sPosNn[0][0] )\n",
    "    data['s11y'].append( xerawdpTree.cS2sPosNn[0][1] )\n",
    "    data['s11z'].append( xerawdpTree.cS2sPosNn[0][2] )\n",
    "    \n",
    "    data['cs20Area'].append( xerawdpTree.cS2sTot[0] )\n",
    "    \n",
    "df_xerawdp = pd.DataFrame(data)"
   ]
  },
  {
   "cell_type": "code",
   "execution_count": null,
   "metadata": {
    "collapsed": false
   },
   "outputs": [],
   "source": [
    "print(df_xerawdp['cs20Area'])"
   ]
  },
  {
   "cell_type": "code",
   "execution_count": null,
   "metadata": {
    "collapsed": false
   },
   "outputs": [],
   "source": [
    "R = 15.25\n",
    "Z = 30.3\n",
    "A_r = [R/5, 2*R/5, 3*R/5, 4*R/5, R]\n",
    "N_phi = [10, 15, 20, 40, 60]\n",
    "N_z = 10.0\n",
    "bin_settings = [R,Z,A_r,N_phi,N_z]\n",
    "\n",
    "bin_data = xe100_to_lyBins(df_xerawdp,bin_settings,'s10',bin_spec_dir='Bin_Hists_s10_xerawdp')"
   ]
  },
  {
   "cell_type": "code",
   "execution_count": null,
   "metadata": {
    "collapsed": true
   },
   "outputs": [],
   "source": []
  }
 ],
 "metadata": {
  "kernelspec": {
   "display_name": "Python 3",
   "language": "python",
   "name": "python3"
  },
  "language_info": {
   "codemirror_mode": {
    "name": "ipython",
    "version": 3
   },
   "file_extension": ".py",
   "mimetype": "text/x-python",
   "name": "python",
   "nbconvert_exporter": "python",
   "pygments_lexer": "ipython3",
   "version": "3.4.4"
  }
 },
 "nbformat": 4,
 "nbformat_minor": 0
}
